{
 "cells": [
  {
   "cell_type": "markdown",
   "metadata": {},
   "source": [
    "# Batch Job Analytics\n",
    "\n",
    "   *Analyze batch job operation log data in zOS System on IBM mainframe, to help client to gain insight about their batch job elapsed time.*\n",
    "\n",
    "   >In this demo scenario, BankABC analyzes elapsed time of Master Batch Job(MBJ). MBJ is a big application run at every midnight, includes over dozens of thousands of jobs, covered various types of business transaction. <br>\n",
    "   BankABC hopes to know how MBJ elapsed time changes, which factors impact it mostly, what is the correlation among daily business volumes and elapsed time. <br>\n",
    "   Additionally, BankABC want to know if MBJ elapsed time is predictable. Usually MBJ will run several hours at midnight, BankABC want to make sure it complete before office hour in next morning. A reasonable predition will help to arrange MBJ and maintenance jobs productively, and useful for anomaly detection. <br>\n",
    "   \n",
    "   ***We demonstrate the analyze process in 3 steps in 3 Python Notebooks.***\n",
    "\n",
    "   ### 1_BatchJob_SMF30Extract.ipynb\n",
    "      It extract batch job run time operation data from SMF Type 30 logfile. \n",
    "      You could refer to IBM Knowledge Center about SMF Type 30, to get know more about mainframe job metrics definition according to your zOS version.\n",
    "      Since SMF 30 log file is usually large in size, so not included in the project package, but a sample output from this Notebook df_smf.csv is included for your information.\n",
    "\n",
    "   ### 2_BatchJob_MBJ_DataExploration.ipynb\n",
    "      This notebook explore MBJ's elpased time, get insight on trend in timeline, correlation to daytime business volumes, periodicity on week/day/month.\n",
    "\n",
    "   ### 3_BatchJob_MBJ_Prediction.ipynb\n",
    "      This notebook apply 3 methods to predict MBJ elapsed time based on historical data, calendar information and business transaction volume data, emsenble them as final results.\n",
    "\n",
    "   \n",
    "## Dataset:\n",
    "    1. df_smf.csv\n",
    "       Sample output of 1_BatchJob_SMF30Extract.ipynb, which is batch job run time metrics, the most important data input for later batch job analytics.\n",
    "       In zOS operation log, SMF provides a common interface to extract system operation measurements. SMF Type 30 includes records of batch job operation. \n",
    "       In real client environments, such data could be also collected by other 3rd party softwares.\n",
    "\n",
    "    2. MasterBatchJob.csv\n",
    "       Elapsed time of MBJ in one year, sample data simulated for demo.\n",
    "\n",
    "    3. TxnVolume.csv\n",
    "       Transaction Volumns of various business type one year, sample data simulated for demo.   \n",
    "\n",
    "    4. calendar_join.csv\n",
    "       Calendar data with calenday elements like weekday, day, month and etc.\n",
    "\n",
    "    5. widetable_MBJ.csv\n",
    "       A joined wide table of MBJ elapsed time, transaction volumes and calendar data, ready for model training for 3_BatchJob_MBJ_Prediction.ipynb.\n",
    "    \n",
    "\n",
    "\n",
    "Note:\n",
    "  In notebook cell, when read local dataset on Waston Machine Learning for zOS, will need a token for authetication, the expiration period is configurated by adminitrator, when you run cell failed and error message shows that token expired, please click on top right button to get a new up-to-date token to replace the old project context.  \n",
    "  "
   ]
  },
  {
   "cell_type": "code",
   "execution_count": null,
   "metadata": {
    "collapsed": true
   },
   "outputs": [],
   "source": []
  }
 ],
 "metadata": {
  "component": "zed7hdh1",
  "kernelspec": {
   "display_name": "imlpython3",
   "language": "python",
   "name": "imlpython3"
  },
  "language_info": {
   "codemirror_mode": {
    "name": "ipython",
    "version": 3
   },
   "file_extension": ".py",
   "mimetype": "text/x-python",
   "name": "python",
   "nbconvert_exporter": "python",
   "pygments_lexer": "ipython3",
   "version": "3.6.1"
  }
 },
 "nbformat": 4,
 "nbformat_minor": 2
}
