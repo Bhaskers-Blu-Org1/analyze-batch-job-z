{
 "cells": [
  {
   "cell_type": "markdown",
   "metadata": {
    "deletable": true,
    "editable": true
   },
   "source": [
    "# Batch Job Analysis -- Master Batch Job - Elapsed Time Prediction\n",
    "\n",
    "1. Read joined widetable data file for Master Batch Job, which generated from  \"2_BatchJob_MBJ_DataExploration.ipynb\"\n",
    "2. Seperate data into train & test parts\n",
    "3. Train model with 3 different combination\n",
    "4. Emsemble 3 algorithm results as final result\n",
    "5. Visualization and evaluation of test result\n",
    "6. When there is systemetic drift of test result, additional adjustment for predicted result\n"
   ]
  },
  {
   "cell_type": "markdown",
   "metadata": {
    "collapsed": false,
    "deletable": true,
    "editable": true
   },
   "source": [
    "### Define parameters\n",
    "Define parameters indicate input path, file, split date and target column for prediction<p>\n",
    "p_file_path: path where input file widetable_MBJ.csv located<br>\n",
    "p_jobname: job name, here use \"MBJ\" for Master Batch Job data<br>\n",
    "p_filename: the file with data ready for prediction <br>\n",
    "p_split_date: the date to split data into train data and test data, before it for train, the date equal and later than it is for test<br>\n",
    "p_target_name: the column name in data for predict <br>\n",
    "\n",
    "\n"
   ]
  },
  {
   "cell_type": "code",
   "execution_count": 1,
   "metadata": {
    "collapsed": false,
    "deletable": true,
    "editable": true
   },
   "outputs": [],
   "source": [
    "\n",
    "p_file_path=''\n",
    "p_jobname='MBJ'\n",
    "p_filename=p_file_path+'widetable_'+p_jobname+'.csv'\n",
    "p_split_date='2016-11-01'\n",
    "p_target_name='ELAPSED_MINUTE'\n"
   ]
  },
  {
   "cell_type": "markdown",
   "metadata": {
    "deletable": true,
    "editable": true
   },
   "source": [
    "### Import necessary packages and define 3 basic functions \n",
    " - Definition of function __*\"calMAPE(actual, pred)\"*__\n",
    "     - function calculates Mean Absolute Percentage Error between actual value and predicted value\n",
    " - Definition of function __*\"eda(dataframe)\"*__\n",
    "     - function prints essential characteristics of a data frame\n",
    " - Definition of function __*\"ConvertDate(s)\"*__\n",
    "     - function formats data to *'%Y-%m-%d'*"
   ]
  },
  {
   "cell_type": "code",
   "execution_count": 2,
   "metadata": {
    "collapsed": true,
    "deletable": true,
    "editable": true
   },
   "outputs": [],
   "source": [
    "import warnings\n",
    "warnings.filterwarnings(\"ignore\")  #would not show warning message\n",
    "\n",
    "\n",
    "import pandas as pd\n",
    "import numpy as np\n",
    "\n",
    "import matplotlib.pyplot as plt\n",
    "%matplotlib inline\n",
    "\n",
    "\n",
    "def calMAPE(actual, pred):\n",
    "    mape = []\n",
    "    pred=pd.DataFrame(pred)   \n",
    "    #print(actual,pred)\n",
    "    for i in range(len(actual)):\n",
    "        if actual.values[i] <= 1:\n",
    "            if actual.values[i]==0:\n",
    "                if (pred.values[i]==0) or (pred.values[i]==-1):\n",
    "                    l_pe=0\n",
    "                else: l_pe=0\n",
    "            else:\n",
    "                l_pe=np.abs(actual.values[i] - pred.values[i]) / actual.values[i]\n",
    "            l_pe=CutoffValue(l_pe,1,0)\n",
    "        else:\n",
    "            l_pe = np.abs(actual.values[i] - pred.values[i]) / actual.values[i]\n",
    "        mape.append(l_pe)\n",
    "    return np.mean(mape)\n",
    "    \n",
    "\n",
    "# define a basic function for Exploratory Data Analysis \n",
    "def eda(dataframe):\n",
    "    print('----------  Running Basic Exploratory Data Analysis ------------')\n",
    "    print('---------------------- [  Data Head -5  ] ----------------------')\n",
    "    print(dataframe.head())\n",
    "    print('---------------------- [Data Description] ----------------------')\n",
    "    print(dataframe.shape)\n",
    "    print(dataframe.describe())\n",
    "    #print('---------------------- [     Boxplot    ] ----------------------')\n",
    "    #dataframe.boxplot(figsize=[12, 8])\n",
    "    #plt.show()\n",
    "    #print('---------------------- [  ScatterMatrix  ] ----------------------')\n",
    "    #scatter_matrix(dataframe.ix[:, :],figsize=[12, 8], diagonal='hist')\n",
    "    \n",
    "def ConvertDate(s):\n",
    "    return pd.to_datetime(s,format='%Y-%m-%d')\n"
   ]
  },
  {
   "cell_type": "markdown",
   "metadata": {
    "deletable": true,
    "editable": true
   },
   "source": [
    "## Step 1: Read input data for Master Batch Job elapsed time prediction\n",
    "\n",
    "Get project context \n",
    "1. Move text edit caret into begining of below cell\n",
    "2. Click the button in upright menu, with hint of \"Create new\"\n",
    "3. Select \"Insert project context\"\n",
    "4. Use new generated code to replace old code in the cell"
   ]
  },
  {
   "cell_type": "code",
   "execution_count": 3,
   "metadata": {
    "collapsed": false,
    "deletable": true,
    "editable": true
   },
   "outputs": [],
   "source": [
    "import pandas as pd\n",
    "import dsx_core_utils\n",
    "from dsx_core_utils import ProjectContext\n",
    "# pc context contains projectName, notebookName, authToken, repositoryIP\n",
    "pc = ProjectContext.ProjectContext('Batch_Job_Analytics', '3_BatchJob_MBJ_Prediction', '', 'xx.xx.xx.xx')\n",
    "\n"
   ]
  },
  {
   "cell_type": "markdown",
   "metadata": {
    "deletable": true,
    "editable": true
   },
   "source": [
    "\n",
    " - Definition of column names for the data\n",
    " - Data import from .csv file\n",
    " - Data preprocessing"
   ]
  },
  {
   "cell_type": "code",
   "execution_count": 4,
   "metadata": {
    "collapsed": false
   },
   "outputs": [],
   "source": [
    "filepath = dsx_core_utils.get_local_dataset(pc, 'widetable_MBJ.csv')\n",
    "p_filename=filepath"
   ]
  },
  {
   "cell_type": "code",
   "execution_count": 5,
   "metadata": {
    "collapsed": false,
    "deletable": true,
    "editable": true
   },
   "outputs": [
    {
     "name": "stdout",
     "output_type": "stream",
     "text": [
      "<class 'pandas.core.frame.DataFrame'>\n",
      "RangeIndex: 365 entries, 0 to 364\n",
      "Data columns (total 29 columns):\n",
      "ELAPSED_MINUTE    365 non-null int64\n",
      "DATE              365 non-null datetime64[ns]\n",
      "YEAR              365 non-null object\n",
      "MONTH             365 non-null object\n",
      "DAY               365 non-null object\n",
      "WEEKDAY           365 non-null object\n",
      "IS_WEEKEND        365 non-null object\n",
      "IS_MONTHEND       365 non-null object\n",
      "NEXTDAY           365 non-null object\n",
      "LASTDAY           365 non-null object\n",
      "REFER_DATE        365 non-null object\n",
      "IS_HOLIDAY        365 non-null object\n",
      "IS_SPECIALDAY     365 non-null object\n",
      "BT01              365 non-null float64\n",
      "BT02              365 non-null float64\n",
      "BT03              365 non-null float64\n",
      "BT04              365 non-null float64\n",
      "BT05              365 non-null float64\n",
      "BT06              365 non-null float64\n",
      "BT07              365 non-null float64\n",
      "BT08              365 non-null float64\n",
      "BT09              365 non-null float64\n",
      "BT10              365 non-null float64\n",
      "BT11              365 non-null float64\n",
      "BT12              365 non-null float64\n",
      "BT13              365 non-null float64\n",
      "BT14              365 non-null float64\n",
      "BT15              365 non-null float64\n",
      "BT16              365 non-null float64\n",
      "dtypes: datetime64[ns](1), float64(16), int64(1), object(11)\n",
      "memory usage: 82.8+ KB\n",
      "None\n"
     ]
    }
   ],
   "source": [
    "cols=['ELAPSED_MINUTE', 'DATE', 'YEAR', 'MONTH', 'DAY',\n",
    "       'WEEKDAY', 'IS_WEEKEND', 'IS_MONTHEND', 'NEXTDAY', 'LASTDAY',\n",
    "       'REFER_DATE', 'IS_HOLIDAY', 'IS_SPECIALDAY', 'BT01', 'BT02', 'BT03',\n",
    "       'BT04', 'BT05', 'BT06', 'BT07', 'BT08', 'BT09', 'BT10', 'BT11', 'BT12',\n",
    "       'BT13', 'BT14', 'BT15', 'BT16']\n",
    "\n",
    "widetable = pd.read_csv(p_filename,encoding=\"ISO-8859-1\",\n",
    "                        dtype={'YEAR':str,'MONTH':str,'DAY':str,'WEEKDAY':str,\n",
    "                               'IS_WEEKEND':str,'IS_MONTHEND':str,'IS_HOLIDAY':str,'IS_SPECIALDAY':str},\n",
    "                        usecols=cols,\n",
    "                        parse_dates=['DATE'])\n",
    "\n",
    "\n",
    "print(widetable.info())\n",
    "\n"
   ]
  },
  {
   "cell_type": "code",
   "execution_count": 6,
   "metadata": {
    "collapsed": false,
    "deletable": true,
    "editable": true
   },
   "outputs": [
    {
     "data": {
      "text/html": [
       "<div>\n",
       "<table border=\"1\" class=\"dataframe\">\n",
       "  <thead>\n",
       "    <tr style=\"text-align: right;\">\n",
       "      <th></th>\n",
       "      <th>ELAPSED_MINUTE</th>\n",
       "      <th>DATE</th>\n",
       "      <th>YEAR</th>\n",
       "      <th>MONTH</th>\n",
       "      <th>DAY</th>\n",
       "      <th>WEEKDAY</th>\n",
       "      <th>IS_WEEKEND</th>\n",
       "      <th>IS_MONTHEND</th>\n",
       "      <th>NEXTDAY</th>\n",
       "      <th>LASTDAY</th>\n",
       "      <th>...</th>\n",
       "      <th>BT07</th>\n",
       "      <th>BT08</th>\n",
       "      <th>BT09</th>\n",
       "      <th>BT10</th>\n",
       "      <th>BT11</th>\n",
       "      <th>BT12</th>\n",
       "      <th>BT13</th>\n",
       "      <th>BT14</th>\n",
       "      <th>BT15</th>\n",
       "      <th>BT16</th>\n",
       "    </tr>\n",
       "  </thead>\n",
       "  <tbody>\n",
       "    <tr>\n",
       "      <th>0</th>\n",
       "      <td>160</td>\n",
       "      <td>2016-01-01</td>\n",
       "      <td>2016</td>\n",
       "      <td>1</td>\n",
       "      <td>1</td>\n",
       "      <td>5</td>\n",
       "      <td>0</td>\n",
       "      <td>0</td>\n",
       "      <td>2016/1/2</td>\n",
       "      <td>2015/12/31</td>\n",
       "      <td>...</td>\n",
       "      <td>4224540.0</td>\n",
       "      <td>290870.0</td>\n",
       "      <td>8674571.0</td>\n",
       "      <td>6793745.0</td>\n",
       "      <td>1378925.0</td>\n",
       "      <td>184705.0</td>\n",
       "      <td>33585.0</td>\n",
       "      <td>3215742.0</td>\n",
       "      <td>46389.0</td>\n",
       "      <td>4826739.0</td>\n",
       "    </tr>\n",
       "    <tr>\n",
       "      <th>1</th>\n",
       "      <td>149</td>\n",
       "      <td>2016-01-02</td>\n",
       "      <td>2016</td>\n",
       "      <td>1</td>\n",
       "      <td>2</td>\n",
       "      <td>6</td>\n",
       "      <td>1</td>\n",
       "      <td>0</td>\n",
       "      <td>2016/1/3</td>\n",
       "      <td>2016/1/1</td>\n",
       "      <td>...</td>\n",
       "      <td>4029561.0</td>\n",
       "      <td>256880.0</td>\n",
       "      <td>8579600.0</td>\n",
       "      <td>6197802.0</td>\n",
       "      <td>1522222.0</td>\n",
       "      <td>170271.0</td>\n",
       "      <td>33750.0</td>\n",
       "      <td>2782242.0</td>\n",
       "      <td>36342.0</td>\n",
       "      <td>2874246.0</td>\n",
       "    </tr>\n",
       "    <tr>\n",
       "      <th>2</th>\n",
       "      <td>145</td>\n",
       "      <td>2016-01-03</td>\n",
       "      <td>2016</td>\n",
       "      <td>1</td>\n",
       "      <td>3</td>\n",
       "      <td>7</td>\n",
       "      <td>1</td>\n",
       "      <td>0</td>\n",
       "      <td>2016/1/4</td>\n",
       "      <td>2016/1/2</td>\n",
       "      <td>...</td>\n",
       "      <td>3814038.0</td>\n",
       "      <td>285607.0</td>\n",
       "      <td>8819164.0</td>\n",
       "      <td>6031757.0</td>\n",
       "      <td>1538040.0</td>\n",
       "      <td>168761.0</td>\n",
       "      <td>38897.0</td>\n",
       "      <td>2682481.0</td>\n",
       "      <td>35149.0</td>\n",
       "      <td>2651567.0</td>\n",
       "    </tr>\n",
       "    <tr>\n",
       "      <th>3</th>\n",
       "      <td>187</td>\n",
       "      <td>2016-01-04</td>\n",
       "      <td>2016</td>\n",
       "      <td>1</td>\n",
       "      <td>4</td>\n",
       "      <td>1</td>\n",
       "      <td>0</td>\n",
       "      <td>0</td>\n",
       "      <td>2016/1/5</td>\n",
       "      <td>2016/1/3</td>\n",
       "      <td>...</td>\n",
       "      <td>4270735.0</td>\n",
       "      <td>1283273.0</td>\n",
       "      <td>17654698.0</td>\n",
       "      <td>8187772.0</td>\n",
       "      <td>3033516.0</td>\n",
       "      <td>753684.0</td>\n",
       "      <td>237844.0</td>\n",
       "      <td>7216136.0</td>\n",
       "      <td>82694.0</td>\n",
       "      <td>2819131.0</td>\n",
       "    </tr>\n",
       "    <tr>\n",
       "      <th>4</th>\n",
       "      <td>164</td>\n",
       "      <td>2016-01-05</td>\n",
       "      <td>2016</td>\n",
       "      <td>1</td>\n",
       "      <td>5</td>\n",
       "      <td>2</td>\n",
       "      <td>0</td>\n",
       "      <td>0</td>\n",
       "      <td>2016/1/6</td>\n",
       "      <td>2016/1/4</td>\n",
       "      <td>...</td>\n",
       "      <td>4080801.0</td>\n",
       "      <td>1315945.0</td>\n",
       "      <td>17000050.0</td>\n",
       "      <td>7871548.0</td>\n",
       "      <td>2908877.0</td>\n",
       "      <td>560995.0</td>\n",
       "      <td>212150.0</td>\n",
       "      <td>6264452.0</td>\n",
       "      <td>75047.0</td>\n",
       "      <td>2891914.0</td>\n",
       "    </tr>\n",
       "  </tbody>\n",
       "</table>\n",
       "<p>5 rows × 29 columns</p>\n",
       "</div>"
      ],
      "text/plain": [
       "   ELAPSED_MINUTE       DATE  YEAR MONTH DAY WEEKDAY IS_WEEKEND IS_MONTHEND  \\\n",
       "0             160 2016-01-01  2016     1   1       5          0           0   \n",
       "1             149 2016-01-02  2016     1   2       6          1           0   \n",
       "2             145 2016-01-03  2016     1   3       7          1           0   \n",
       "3             187 2016-01-04  2016     1   4       1          0           0   \n",
       "4             164 2016-01-05  2016     1   5       2          0           0   \n",
       "\n",
       "    NEXTDAY     LASTDAY    ...           BT07       BT08        BT09  \\\n",
       "0  2016/1/2  2015/12/31    ...      4224540.0   290870.0   8674571.0   \n",
       "1  2016/1/3    2016/1/1    ...      4029561.0   256880.0   8579600.0   \n",
       "2  2016/1/4    2016/1/2    ...      3814038.0   285607.0   8819164.0   \n",
       "3  2016/1/5    2016/1/3    ...      4270735.0  1283273.0  17654698.0   \n",
       "4  2016/1/6    2016/1/4    ...      4080801.0  1315945.0  17000050.0   \n",
       "\n",
       "        BT10       BT11      BT12      BT13       BT14     BT15       BT16  \n",
       "0  6793745.0  1378925.0  184705.0   33585.0  3215742.0  46389.0  4826739.0  \n",
       "1  6197802.0  1522222.0  170271.0   33750.0  2782242.0  36342.0  2874246.0  \n",
       "2  6031757.0  1538040.0  168761.0   38897.0  2682481.0  35149.0  2651567.0  \n",
       "3  8187772.0  3033516.0  753684.0  237844.0  7216136.0  82694.0  2819131.0  \n",
       "4  7871548.0  2908877.0  560995.0  212150.0  6264452.0  75047.0  2891914.0  \n",
       "\n",
       "[5 rows x 29 columns]"
      ]
     },
     "execution_count": 6,
     "metadata": {},
     "output_type": "execute_result"
    }
   ],
   "source": [
    "widetable.head(5)"
   ]
  },
  {
   "cell_type": "code",
   "execution_count": 7,
   "metadata": {
    "collapsed": false,
    "deletable": true,
    "editable": true
   },
   "outputs": [],
   "source": [
    "#For all columns with continuous values add a new column with logarithmic scaled values each \n",
    "continuous_cols=[ 'BT01', 'BT02', 'BT03',\n",
    "       'BT04', 'BT05', 'BT06', 'BT07', 'BT08', 'BT09', 'BT10', 'BT11', 'BT12',\n",
    "       'BT13', 'BT14', 'BT15', 'BT16']\n",
    "\n",
    "l_cols=continuous_cols.copy()\n",
    "for col in (l_cols):\n",
    "    col_add = col+'_ln'\n",
    "    widetable[col_add] = widetable[col].apply(lambda x: np.log(x) if x!=0 else 0)\n",
    "    continuous_cols.append(col_add)"
   ]
  },
  {
   "cell_type": "code",
   "execution_count": 8,
   "metadata": {
    "collapsed": false,
    "deletable": true,
    "editable": true
   },
   "outputs": [],
   "source": [
    "feature_list=['YEAR', 'MONTH', 'DAY', \n",
    "                  'WEEKDAY', 'IS_WEEKEND', 'IS_MONTHEND',\n",
    "                'IS_HOLIDAY', 'IS_SPECIALDAY']+continuous_cols\n",
    "                \n",
    "target_name=p_target_name\n",
    "feature_list_num=continuous_cols"
   ]
  },
  {
   "cell_type": "markdown",
   "metadata": {
    "deletable": true,
    "editable": true
   },
   "source": [
    "## Step 2: Split data set to train and test dataset\n",
    "- Split data set in training and test set, [2016-01-01, split_date) as training data, [split_date,next 1 month) as test data\n",
    "- Weight data instances according to their age and corralation, according to some known experience from domain experts"
   ]
  },
  {
   "cell_type": "code",
   "execution_count": 9,
   "metadata": {
    "collapsed": false,
    "deletable": true,
    "editable": true
   },
   "outputs": [],
   "source": [
    "\n",
    "import datetime as dt\n",
    "from dateutil.relativedelta import relativedelta\n",
    "pd.options.mode.chained_assignment = None  # default='warn'\n",
    "def split_train_test_with_weight(widetable,split_date):\n",
    "    \n",
    "\n",
    "    widetable_frq=widetable.copy()\n",
    "    l_date=pd.to_datetime(split_date)\n",
    "    l_1month_ago=(l_date+relativedelta(months=-1)).strftime(\"%Y-%m-%d\")\n",
    "    l_2month_ago=(l_date+relativedelta(months=-2)).strftime(\"%Y-%m-%d\")\n",
    "    l_3month_ago=(l_date+relativedelta(months=-3)).strftime(\"%Y-%m-%d\")\n",
    "    l_11month_ago=(l_date+relativedelta(months=-11)).strftime(\"%Y-%m-%d\")\n",
    "    l_12month_ago=(l_date+relativedelta(months=-12)).strftime(\"%Y-%m-%d\")\n",
    "    l_1month_later=(l_date+relativedelta(months=+1)).strftime(\"%Y-%m-%d\")\n",
    "    \n",
    "    for i in range(16):\n",
    "        df=widetable[(widetable['DATE']>=l_1month_ago) & (widetable['DATE']<split_date)]\n",
    "        df.loc[target_name]=df[target_name].apply(lambda x:x+np.random.random())\n",
    "        widetable_frq=widetable_frq.append(df,ignore_index=True)\n",
    "    for i in range(4):\n",
    "        df=widetable[(widetable['DATE']>=l_2month_ago) & (widetable['DATE']<l_1month_ago)]\n",
    "        df.loc[target_name]=df[target_name].apply(lambda x:x+np.random.random())\n",
    "        widetable_frq=widetable_frq.append(df,ignore_index=True)\n",
    "    for i in range(8):\n",
    "        df=widetable[(widetable['DATE']>=l_3month_ago) & (widetable['DATE']<l_2month_ago)]\n",
    "        df.loc[target_name]=df[target_name].apply(lambda x:x+np.random.random())\n",
    "        widetable_frq=widetable_frq.append(df,ignore_index=True)\n",
    "    for i in range(4):            \n",
    "        df=widetable[(widetable['DATE']>=l_12month_ago) & (widetable['DATE']<l_11month_ago)]\n",
    "        df.loc[target_name]=df[target_name].apply(lambda x:x+np.random.random())\n",
    "        widetable_frq=widetable_frq.append(df,ignore_index=True)\n",
    "    \n",
    "    l_wt_train=widetable_frq[(widetable_frq['DATE']<split_date) & (widetable_frq['DATE']>='2016-01-01')]\n",
    "    l_wt_test=widetable_frq[(widetable_frq['DATE']<l_1month_later) & (widetable_frq['DATE']>=split_date)]\n",
    "    return l_wt_train,l_wt_test\n",
    "\n",
    "wt_train,wt_test=split_train_test_with_weight(widetable,p_split_date)\n",
    "X_train= wt_train[feature_list]\n",
    "y_train = wt_train[target_name]\n",
    "X_test=wt_test[feature_list]\n",
    "y_test=wt_test[target_name]"
   ]
  },
  {
   "cell_type": "markdown",
   "metadata": {
    "deletable": true,
    "editable": true
   },
   "source": [
    "### Transform categorical features to one-hot encoding"
   ]
  },
  {
   "cell_type": "code",
   "execution_count": 10,
   "metadata": {
    "collapsed": false,
    "deletable": true,
    "editable": true
   },
   "outputs": [
    {
     "name": "stdout",
     "output_type": "stream",
     "text": [
      "['BT01', 'BT01_ln', 'BT02', 'BT02_ln', 'BT03', 'BT03_ln', 'BT04', 'BT04_ln', 'BT05', 'BT05_ln', 'BT06', 'BT06_ln', 'BT07', 'BT07_ln', 'BT08', 'BT08_ln', 'BT09', 'BT09_ln', 'BT10', 'BT10_ln', 'BT11', 'BT11_ln', 'BT12', 'BT12_ln', 'BT13', 'BT13_ln', 'BT14', 'BT14_ln', 'BT15', 'BT15_ln', 'BT16', 'BT16_ln', 'DAY=1', 'DAY=10', 'DAY=11', 'DAY=12', 'DAY=13', 'DAY=14', 'DAY=15', 'DAY=16', 'DAY=17', 'DAY=18', 'DAY=19', 'DAY=2', 'DAY=20', 'DAY=21', 'DAY=22', 'DAY=23', 'DAY=24', 'DAY=25', 'DAY=26', 'DAY=27', 'DAY=28', 'DAY=29', 'DAY=3', 'DAY=30', 'DAY=31', 'DAY=4', 'DAY=5', 'DAY=6', 'DAY=7', 'DAY=8', 'DAY=9', 'IS_HOLIDAY=0', 'IS_HOLIDAY=1', 'IS_MONTHEND=0', 'IS_MONTHEND=1', 'IS_SPECIALDAY=0', 'IS_WEEKEND=0', 'IS_WEEKEND=1', 'MONTH=1', 'MONTH=10', 'MONTH=2', 'MONTH=3', 'MONTH=4', 'MONTH=5', 'MONTH=6', 'MONTH=7', 'MONTH=8', 'MONTH=9', 'WEEKDAY=1', 'WEEKDAY=2', 'WEEKDAY=3', 'WEEKDAY=4', 'WEEKDAY=5', 'WEEKDAY=6', 'WEEKDAY=7', 'YEAR=2016']\n",
      "88\n"
     ]
    }
   ],
   "source": [
    "\n",
    "from sklearn.feature_extraction import DictVectorizer\n",
    "\n",
    "vec = DictVectorizer(sparse=False)\n",
    "X_train = vec.fit_transform(X_train.to_dict(orient='record'))\n",
    "X_test = vec.transform(X_test.to_dict(orient='record'))\n",
    "\n",
    "X_train_d=pd.DataFrame(X_train,columns=vec.feature_names_).copy()\n",
    "X_test_d=pd.DataFrame(X_test,columns=vec.feature_names_).copy()\n",
    "\n",
    "#Print vectorized result \n",
    "\n",
    "print(vec.feature_names_)\n",
    "print(len(vec.feature_names_))\n"
   ]
  },
  {
   "cell_type": "markdown",
   "metadata": {
    "collapsed": false,
    "deletable": true,
    "editable": true
   },
   "source": [
    "### Standardize all numeric fields to z-score, and adjust outliner values to outliner bound\n"
   ]
  },
  {
   "cell_type": "code",
   "execution_count": 11,
   "metadata": {
    "collapsed": false,
    "deletable": true,
    "editable": true
   },
   "outputs": [],
   "source": [
    "from sklearn.preprocessing import StandardScaler\n",
    "\n",
    "X_scaler = StandardScaler()\n",
    "X_train_ss = X_scaler.fit_transform(X_train_d[feature_list_num])\n",
    "X_test_ss = X_scaler.transform(X_test_d[feature_list_num])\n",
    "X_train_ss=pd.DataFrame(X_train_ss, columns=feature_list_num)\n",
    "X_test_ss=pd.DataFrame(X_test_ss, columns=feature_list_num)\n",
    "\n",
    "def CutoffValue(x,up_bound,down_bound):\n",
    "    if x>up_bound:\n",
    "        return up_bound\n",
    "    else:\n",
    "        if x< down_bound:\n",
    "            return down_bound\n",
    "    return x\n",
    "\n",
    "\n",
    "for col in feature_list_num:\n",
    "  X_train_d[col]=X_train_ss[col].apply(lambda x: CutoffValue(x,3,-3))\n",
    "  X_test_d[col]=X_test_ss[col].apply(lambda x:CutoffValue(x,3,-3))\n",
    "\n",
    "l_m=y_train.mean()\n",
    "l_std=y_train.std()\n",
    "\n",
    "\n",
    "original_y_train=y_train.copy()\n",
    "original_y_test=y_test.copy()\n",
    "\n",
    "y_train_d=y_train.apply(lambda x: CutoffValue(x,l_m+3*l_std,l_m-3*l_std))\n",
    "y_test_d=y_test.apply(lambda x: CutoffValue(x,l_m+3*l_std,l_m-3*l_std))\n",
    "\n",
    "y_train=y_train_d.copy()\n",
    "y_test=y_test_d.copy()\n",
    "\n"
   ]
  },
  {
   "cell_type": "markdown",
   "metadata": {
    "collapsed": false,
    "deletable": true,
    "editable": true
   },
   "source": [
    "## Start to build model\n",
    "\n",
    " - training dataset: X_train_d, y_train\n",
    " - test dataset:  X_test_d, y_test \n",
    " - feature selection: percentile selection\n",
    "\n",
    "Try 3 combinations from below algorithms\n",
    "\n",
    "1. Lasso\n",
    "2. Random Forest\n",
    "3. GradientBoostingRegressor\n",
    "\n",
    "Combine with methods of \n",
    "1. Feature Selection\n",
    "2. cross validation\n",
    "3. grid search for parameters\n",
    "\n",
    "Ensemble result from 3 models by mean\n",
    "\n"
   ]
  },
  {
   "cell_type": "code",
   "execution_count": 12,
   "metadata": {
    "collapsed": false,
    "deletable": true,
    "editable": true
   },
   "outputs": [],
   "source": [
    "\n",
    "# set some calculator used in pipeline for feature selection, cross validation\n",
    "\n",
    "import shutil\n",
    "import tempfile\n",
    "import time\n",
    "\n",
    "from sklearn import feature_selection\n",
    "from sklearn.pipeline import Pipeline\n",
    "from sklearn.model_selection import GridSearchCV\n",
    "from sklearn.model_selection import KFold\n",
    "from sklearn.externals.joblib import Memory\n",
    "from sklearn import linear_model\n",
    "import matplotlib.pyplot as plt\n",
    "import numpy as np\n",
    "from sklearn.metrics import mean_squared_error, r2_score\n",
    "\n",
    "cv = KFold(3)  # cross-validation generator for model selection\n",
    "cachedir = tempfile.mkdtemp()\n",
    "mem = Memory(cachedir=cachedir, verbose=False)\n",
    "\n",
    "vt = feature_selection.VarianceThreshold()\n",
    "\n",
    "# Anova univariate feature selection \n",
    "f_regression = mem.cache(feature_selection.f_regression) \n",
    "anova = feature_selection.SelectPercentile(f_regression)\n",
    "\n",
    "\n",
    "# Prepare some variables for result evaluation\n",
    "start = time.time()\n",
    "\n",
    "#res_log is a dataframe to record evaluation results for various algorithm, for train dataset or test dataset\n",
    "res_log=pd.DataFrame(columns=['Algorithm','Train_Test','RMSE','R2_Score','MAPE'])\n",
    "\n",
    "#res_train record predicted result for train dataset, in specific algorithm\n",
    "res_train_pred=pd.DataFrame(index=y_train.index)\n",
    "\n",
    "\n",
    "#res_test record predicted result for test dataset, in specific algorithm\n",
    "res_test_pred=pd.DataFrame(index=y_test.index)\n",
    "\n",
    "\n"
   ]
  },
  {
   "cell_type": "markdown",
   "metadata": {
    "deletable": true,
    "editable": true
   },
   "source": [
    "Definition of function __*\"evalResult(algname,test,actual,predicted)\"*__\n",
    " - function prints and returns evaluation metrics comparing actual and predicted values"
   ]
  },
  {
   "cell_type": "code",
   "execution_count": 13,
   "metadata": {
    "collapsed": false,
    "deletable": true,
    "editable": true
   },
   "outputs": [],
   "source": [
    "def evalResult(algname,test,actual,predicted):\n",
    "    print('\\n',algname)\n",
    "    print('================================================================================================')\n",
    "    print(\"Root Mean Squared Error: %.2f\" % np.sqrt(mean_squared_error(actual, predicted)))\n",
    "     # Explained variance score: 1 is perfect prediction\n",
    "    print('Variance score: %.2f' % r2_score(actual, predicted))\n",
    "    df=pd.DataFrame({'Actual':actual,'Predicted':predicted,'Date':test['DATE']})\n",
    "    df.index=df['Date']\n",
    "    df.drop('Date',axis=1,inplace=True)\n",
    "\n",
    "    print(algname,' MAPE=%.3f'% calMAPE(actual,predicted))\n",
    "    return res_log.append({'Algorithm':algname[:len(algname)-5],\n",
    "                    'Train_Test':algname[len(algname)-5:],\n",
    "                    'RMSE':np.sqrt(mean_squared_error(actual, predicted)),\n",
    "                   'R2_Score':r2_score(actual, predicted),\n",
    "                    'MAPE':calMAPE(actual,predicted)},ignore_index=True)\n"
   ]
  },
  {
   "cell_type": "markdown",
   "metadata": {
    "deletable": true,
    "editable": true
   },
   "source": [
    "Definition of function __*\"plot_feature_scores(scores,names)\"*__\n",
    " -  function plots the relevanz of features in sorted order"
   ]
  },
  {
   "cell_type": "code",
   "execution_count": 14,
   "metadata": {
    "collapsed": false,
    "deletable": true,
    "editable": true
   },
   "outputs": [],
   "source": [
    "def plot_feature_scores(scores,names):\n",
    "    named_scores = zip(names, scores)  \n",
    "    sorted_named_scores = sorted(named_scores, key=lambda z: z[1], reverse=True)  \n",
    "    sorted_named_scores=sorted_named_scores[0:20]\n",
    "    sorted_named_scores = sorted(sorted_named_scores, key=lambda z: z[1], reverse=False)  \n",
    "  \n",
    "    sorted_scores = [each[1] for each in sorted_named_scores]  \n",
    "    sorted_names = [each[0] for each in sorted_named_scores]  \n",
    "    \n",
    "    y_pos=np.arange(len(sorted_names))\n",
    "    \n",
    "    plt.figure(figsize=(20,12))\n",
    "    plt.barh(y_pos,sorted_scores,color='b',align='center',alpha=0.5)\n",
    "    plt.yticks(y_pos,sorted_names)\n",
    "    plt.xlabel('Scores')\n",
    "    plt.title('Variable Importance')"
   ]
  },
  {
   "cell_type": "markdown",
   "metadata": {
    "deletable": true,
    "editable": true
   },
   "source": [
    "### Combination 1: Lasso Regression \n",
    "Using Grid Search Cross-Validation to get optimal parameters automatically"
   ]
  },
  {
   "cell_type": "code",
   "execution_count": 15,
   "metadata": {
    "collapsed": false,
    "deletable": true,
    "editable": true
   },
   "outputs": [
    {
     "name": "stdout",
     "output_type": "stream",
     "text": [
      "{'lasso__alpha': 0.5}\n",
      "0.338788447694\n",
      "\n",
      " Lasso train\n",
      "================================================================================================\n",
      "Root Mean Squared Error: 13.98\n",
      "Variance score: 0.49\n",
      "Lasso train  MAPE=0.058\n",
      "\n",
      " Lasso test\n",
      "================================================================================================\n",
      "Root Mean Squared Error: 18.17\n",
      "Variance score: 0.19\n",
      "Lasso test  MAPE=0.061\n"
     ]
    }
   ],
   "source": [
    "from sklearn.linear_model import Lasso\n",
    "\n",
    "lasso = Lasso(random_state=0)\n",
    "\n",
    "pl = Pipeline([('lasso', lasso)])\n",
    "\n",
    "pl = GridSearchCV(pl, {'lasso__alpha': [0.1,0.5,1,10]}, cv=cv,verbose=False)\n",
    "pl.fit(X_train_d, y_train)  # set the best parameters\n",
    "y_train_pred=pl.predict(X_train_d)\n",
    "y_test_pred = pl.predict( X_test_d)\n",
    "\n",
    "print(pl.best_params_)\n",
    "print(pl.best_score_)\n",
    "\n",
    "res_log=evalResult('Lasso train',wt_train,y_train,y_train_pred)\n",
    "res_log=evalResult('Lasso test',wt_test,y_test,y_test_pred)\n",
    "\n",
    "#Select this combination's result as part of final result\n",
    "res_test_pred['Lasso']=y_test_pred\n",
    "res_train_pred['Lasso']=y_train_pred"
   ]
  },
  {
   "cell_type": "code",
   "execution_count": 16,
   "metadata": {
    "collapsed": false,
    "deletable": true,
    "editable": true
   },
   "outputs": [
    {
     "data": {
      "image/png": "[encoded data removed]",
      "text/plain": [
       "<matplotlib.figure.Figure at 0x509a649748>"
      ]
     },
     "metadata": {},
     "output_type": "display_data"
    }
   ],
   "source": [
    "\n",
    "# Plot Feature Importance for LASSO\n",
    "lasso=Lasso(random_state=0,alpha=0.5)\n",
    "lasso.fit(X_train_d,y_train)\n",
    "scores=np.abs(lasso.coef_)\n",
    "scores4=scores/np.max(scores)\n",
    "\n",
    "plot_feature_scores(scores4,X_train_d.columns)"
   ]
  },
  {
   "cell_type": "markdown",
   "metadata": {
    "deletable": true,
    "editable": true
   },
   "source": [
    "### Combination 2: Random Forest Regressor\n",
    "Using Feature Selection to reduce dimension and Grid Search Cross-Validation to get optimal parameters automatically"
   ]
  },
  {
   "cell_type": "code",
   "execution_count": 17,
   "metadata": {
    "collapsed": false,
    "deletable": true,
    "editable": true
   },
   "outputs": [
    {
     "name": "stdout",
     "output_type": "stream",
     "text": [
      "{'anova__percentile': 80, 'rf__max_depth': 6}\n",
      "0.7430230992\n",
      "\n",
      " RandomForestRegressor train\n",
      "================================================================================================\n",
      "Root Mean Squared Error: 6.83\n",
      "Variance score: 0.88\n",
      "RandomForestRegressor train  MAPE=0.028\n",
      "\n",
      " RandomForestRegressor test\n",
      "================================================================================================\n",
      "Root Mean Squared Error: 18.38\n",
      "Variance score: 0.17\n",
      "RandomForestRegressor test  MAPE=0.067\n"
     ]
    }
   ],
   "source": [
    "\n",
    "#  RandomForestRegressor\n",
    "\n",
    "from sklearn.ensemble import RandomForestRegressor\n",
    "\n",
    "rf  = RandomForestRegressor(max_depth=2, random_state=0,n_estimators=10)\n",
    "\n",
    "pl = Pipeline([ ('anova', anova), ('rf', rf)])\n",
    "# Select the optimal percentage of features with grid search\n",
    "pl = GridSearchCV(pl, {'anova__percentile': [30,40,50,60,70,80,90,100],'rf__max_depth':[4,5,6]}, cv=cv,verbose=False)\n",
    "pl.fit(X_train_d, y_train)  # set the best parameters\n",
    "print(pl.best_params_)\n",
    "print(pl.best_score_)\n",
    "\n",
    "y_train_pred=pl.predict(X_train_d)\n",
    "y_test_pred=pl.predict(X_test_d)\n",
    "\n",
    "res_log=evalResult('RandomForestRegressor train',wt_train,y_train,y_train_pred)\n",
    "res_log=evalResult('RandomForestRegressor test',wt_test,y_test,y_test_pred)\n",
    "\n",
    "#Select this combination's result as part of final result\n",
    "res_train_pred['RandomForest']=y_train_pred\n",
    "res_test_pred['RandomForest']=y_test_pred"
   ]
  },
  {
   "cell_type": "markdown",
   "metadata": {
    "deletable": true,
    "editable": true
   },
   "source": [
    "Plot feature importance for Random Forest Regressor"
   ]
  },
  {
   "cell_type": "code",
   "execution_count": 18,
   "metadata": {
    "collapsed": false,
    "deletable": true,
    "editable": true,
    "scrolled": false
   },
   "outputs": [
    {
     "data": {
      "image/png": "[encoded data removed]",
      "text/plain": [
       "<matplotlib.figure.Figure at 0x509a80ecc0>"
      ]
     },
     "metadata": {},
     "output_type": "display_data"
    }
   ],
   "source": [
    "rf  = RandomForestRegressor(max_depth=6, random_state=0,n_estimators=10)\n",
    "rf.fit(X_train_d, y_train)\n",
    "\n",
    "scores=rf.feature_importances_\n",
    "scores3=scores/np.max(scores)\n",
    "\n",
    "plot_feature_scores(scores3,X_train_d.columns)"
   ]
  },
  {
   "cell_type": "markdown",
   "metadata": {
    "deletable": true,
    "editable": true
   },
   "source": [
    "### Combination 3:  Feature Selection + Gradient Boosting Regressor\n",
    "Using Feature Select to reduce dimension and Grid Search Cross-Validation to get optimal parameters automatically\n"
   ]
  },
  {
   "cell_type": "code",
   "execution_count": 19,
   "metadata": {
    "collapsed": false,
    "deletable": true,
    "editable": true
   },
   "outputs": [
    {
     "name": "stdout",
     "output_type": "stream",
     "text": [
      "{'anova__percentile': 70, 'gbr__max_depth': 4, 'gbr__n_estimators': 400}\n",
      "0.807065081705\n",
      "\n",
      " GradientBoostingRegressor train\n",
      "================================================================================================\n",
      "Root Mean Squared Error: 5.21\n",
      "Variance score: 0.93\n",
      "GradientBoostingRegressor train  MAPE=0.023\n",
      "\n",
      " GradientBoostingRegressor test\n",
      "================================================================================================\n",
      "Root Mean Squared Error: 17.45\n",
      "Variance score: 0.25\n",
      "GradientBoostingRegressor test  MAPE=0.066\n"
     ]
    }
   ],
   "source": [
    "from sklearn.ensemble import GradientBoostingRegressor\n",
    "\n",
    "params = {'n_estimators': 500, 'max_depth': 4, 'min_samples_split': 2,\n",
    "          'learning_rate': 0.01, 'loss': 'ls'}\n",
    "\n",
    "gbr = GradientBoostingRegressor(**params)\n",
    "\n",
    "pl = Pipeline([ ('anova', anova), ('gbr', gbr)])\n",
    "pl = GridSearchCV(pl, {'anova__percentile': [60,70,80],'gbr__max_depth':[2,3,4],'gbr__n_estimators':[300,400]}, cv=cv,verbose=False)\n",
    "pl.fit(X_train_d, y_train)  # set the best parameters\n",
    "print(pl.best_params_)\n",
    "print(pl.best_score_)\n",
    "\n",
    "y_test_pred=pl.predict(X_test_d)\n",
    "y_train_pred=pl.predict(X_train_d)\n",
    "\n",
    "res_log=evalResult('GradientBoostingRegressor train',wt_train,y_train,y_train_pred)\n",
    "res_log=evalResult('GradientBoostingRegressor test',wt_test,y_test,y_test_pred)\n",
    "\n",
    "res_train_pred['GradientBoostingRegressor']=y_train_pred\n",
    "res_test_pred['GradientBoostingRegressor']=y_test_pred"
   ]
  },
  {
   "cell_type": "markdown",
   "metadata": {
    "collapsed": false,
    "deletable": true,
    "editable": true
   },
   "source": [
    "## Step 4: Visualization of prediction result \n"
   ]
  },
  {
   "cell_type": "code",
   "execution_count": 20,
   "metadata": {
    "collapsed": false,
    "deletable": true,
    "editable": true
   },
   "outputs": [
    {
     "data": {
      "text/html": [
       "<div>\n",
       "<table border=\"1\" class=\"dataframe\">\n",
       "  <thead>\n",
       "    <tr style=\"text-align: right;\">\n",
       "      <th></th>\n",
       "      <th>Lasso</th>\n",
       "      <th>RandomForest</th>\n",
       "      <th>GradientBoostingRegressor</th>\n",
       "    </tr>\n",
       "  </thead>\n",
       "  <tbody>\n",
       "    <tr>\n",
       "      <th>305</th>\n",
       "      <td>181.981313</td>\n",
       "      <td>190.006777</td>\n",
       "      <td>200.527427</td>\n",
       "    </tr>\n",
       "    <tr>\n",
       "      <th>306</th>\n",
       "      <td>179.272627</td>\n",
       "      <td>172.103785</td>\n",
       "      <td>196.233145</td>\n",
       "    </tr>\n",
       "    <tr>\n",
       "      <th>307</th>\n",
       "      <td>170.757936</td>\n",
       "      <td>178.231753</td>\n",
       "      <td>172.950420</td>\n",
       "    </tr>\n",
       "    <tr>\n",
       "      <th>308</th>\n",
       "      <td>169.429396</td>\n",
       "      <td>167.008322</td>\n",
       "      <td>171.420585</td>\n",
       "    </tr>\n",
       "    <tr>\n",
       "      <th>309</th>\n",
       "      <td>162.142985</td>\n",
       "      <td>153.606409</td>\n",
       "      <td>156.516856</td>\n",
       "    </tr>\n",
       "    <tr>\n",
       "      <th>310</th>\n",
       "      <td>153.174273</td>\n",
       "      <td>152.552997</td>\n",
       "      <td>152.956530</td>\n",
       "    </tr>\n",
       "    <tr>\n",
       "      <th>311</th>\n",
       "      <td>164.039854</td>\n",
       "      <td>167.008322</td>\n",
       "      <td>164.503554</td>\n",
       "    </tr>\n",
       "    <tr>\n",
       "      <th>312</th>\n",
       "      <td>165.730552</td>\n",
       "      <td>167.008322</td>\n",
       "      <td>167.224673</td>\n",
       "    </tr>\n",
       "    <tr>\n",
       "      <th>313</th>\n",
       "      <td>165.378774</td>\n",
       "      <td>172.207759</td>\n",
       "      <td>173.017589</td>\n",
       "    </tr>\n",
       "    <tr>\n",
       "      <th>314</th>\n",
       "      <td>176.203202</td>\n",
       "      <td>172.105176</td>\n",
       "      <td>189.434557</td>\n",
       "    </tr>\n",
       "    <tr>\n",
       "      <th>315</th>\n",
       "      <td>182.279826</td>\n",
       "      <td>182.692694</td>\n",
       "      <td>186.543442</td>\n",
       "    </tr>\n",
       "    <tr>\n",
       "      <th>316</th>\n",
       "      <td>154.991375</td>\n",
       "      <td>151.721290</td>\n",
       "      <td>157.237081</td>\n",
       "    </tr>\n",
       "    <tr>\n",
       "      <th>317</th>\n",
       "      <td>151.324086</td>\n",
       "      <td>157.945607</td>\n",
       "      <td>154.257393</td>\n",
       "    </tr>\n",
       "    <tr>\n",
       "      <th>318</th>\n",
       "      <td>174.581732</td>\n",
       "      <td>218.103075</td>\n",
       "      <td>185.616426</td>\n",
       "    </tr>\n",
       "    <tr>\n",
       "      <th>319</th>\n",
       "      <td>171.357629</td>\n",
       "      <td>174.974766</td>\n",
       "      <td>176.000265</td>\n",
       "    </tr>\n",
       "    <tr>\n",
       "      <th>320</th>\n",
       "      <td>168.342031</td>\n",
       "      <td>173.238375</td>\n",
       "      <td>167.825829</td>\n",
       "    </tr>\n",
       "    <tr>\n",
       "      <th>321</th>\n",
       "      <td>163.908745</td>\n",
       "      <td>173.238375</td>\n",
       "      <td>166.686137</td>\n",
       "    </tr>\n",
       "    <tr>\n",
       "      <th>322</th>\n",
       "      <td>165.565504</td>\n",
       "      <td>173.238375</td>\n",
       "      <td>168.357952</td>\n",
       "    </tr>\n",
       "    <tr>\n",
       "      <th>323</th>\n",
       "      <td>152.072384</td>\n",
       "      <td>150.625618</td>\n",
       "      <td>152.160638</td>\n",
       "    </tr>\n",
       "    <tr>\n",
       "      <th>324</th>\n",
       "      <td>151.196571</td>\n",
       "      <td>152.552997</td>\n",
       "      <td>152.029287</td>\n",
       "    </tr>\n",
       "    <tr>\n",
       "      <th>325</th>\n",
       "      <td>164.791592</td>\n",
       "      <td>173.238375</td>\n",
       "      <td>166.247639</td>\n",
       "    </tr>\n",
       "    <tr>\n",
       "      <th>326</th>\n",
       "      <td>165.611447</td>\n",
       "      <td>173.238375</td>\n",
       "      <td>168.576345</td>\n",
       "    </tr>\n",
       "    <tr>\n",
       "      <th>327</th>\n",
       "      <td>166.450092</td>\n",
       "      <td>173.238375</td>\n",
       "      <td>167.085580</td>\n",
       "    </tr>\n",
       "    <tr>\n",
       "      <th>328</th>\n",
       "      <td>168.421811</td>\n",
       "      <td>173.238375</td>\n",
       "      <td>168.861711</td>\n",
       "    </tr>\n",
       "    <tr>\n",
       "      <th>329</th>\n",
       "      <td>172.440984</td>\n",
       "      <td>192.579331</td>\n",
       "      <td>176.130138</td>\n",
       "    </tr>\n",
       "    <tr>\n",
       "      <th>330</th>\n",
       "      <td>154.323122</td>\n",
       "      <td>151.721290</td>\n",
       "      <td>152.308807</td>\n",
       "    </tr>\n",
       "    <tr>\n",
       "      <th>331</th>\n",
       "      <td>150.993321</td>\n",
       "      <td>161.121944</td>\n",
       "      <td>154.829081</td>\n",
       "    </tr>\n",
       "    <tr>\n",
       "      <th>332</th>\n",
       "      <td>167.554747</td>\n",
       "      <td>177.040481</td>\n",
       "      <td>175.765368</td>\n",
       "    </tr>\n",
       "    <tr>\n",
       "      <th>333</th>\n",
       "      <td>166.743065</td>\n",
       "      <td>173.238375</td>\n",
       "      <td>167.796039</td>\n",
       "    </tr>\n",
       "    <tr>\n",
       "      <th>334</th>\n",
       "      <td>173.678916</td>\n",
       "      <td>206.846963</td>\n",
       "      <td>197.750423</td>\n",
       "    </tr>\n",
       "  </tbody>\n",
       "</table>\n",
       "</div>"
      ],
      "text/plain": [
       "          Lasso  RandomForest  GradientBoostingRegressor\n",
       "305  181.981313    190.006777                 200.527427\n",
       "306  179.272627    172.103785                 196.233145\n",
       "307  170.757936    178.231753                 172.950420\n",
       "308  169.429396    167.008322                 171.420585\n",
       "309  162.142985    153.606409                 156.516856\n",
       "310  153.174273    152.552997                 152.956530\n",
       "311  164.039854    167.008322                 164.503554\n",
       "312  165.730552    167.008322                 167.224673\n",
       "313  165.378774    172.207759                 173.017589\n",
       "314  176.203202    172.105176                 189.434557\n",
       "315  182.279826    182.692694                 186.543442\n",
       "316  154.991375    151.721290                 157.237081\n",
       "317  151.324086    157.945607                 154.257393\n",
       "318  174.581732    218.103075                 185.616426\n",
       "319  171.357629    174.974766                 176.000265\n",
       "320  168.342031    173.238375                 167.825829\n",
       "321  163.908745    173.238375                 166.686137\n",
       "322  165.565504    173.238375                 168.357952\n",
       "323  152.072384    150.625618                 152.160638\n",
       "324  151.196571    152.552997                 152.029287\n",
       "325  164.791592    173.238375                 166.247639\n",
       "326  165.611447    173.238375                 168.576345\n",
       "327  166.450092    173.238375                 167.085580\n",
       "328  168.421811    173.238375                 168.861711\n",
       "329  172.440984    192.579331                 176.130138\n",
       "330  154.323122    151.721290                 152.308807\n",
       "331  150.993321    161.121944                 154.829081\n",
       "332  167.554747    177.040481                 175.765368\n",
       "333  166.743065    173.238375                 167.796039\n",
       "334  173.678916    206.846963                 197.750423"
      ]
     },
     "execution_count": 20,
     "metadata": {},
     "output_type": "execute_result"
    }
   ],
   "source": [
    "#predicted result of test dataset\n",
    "res_test_pred\n"
   ]
  },
  {
   "cell_type": "code",
   "execution_count": 21,
   "metadata": {
    "collapsed": false,
    "deletable": true,
    "editable": true
   },
   "outputs": [
    {
     "data": {
      "text/html": [
       "<div>\n",
       "<table border=\"1\" class=\"dataframe\">\n",
       "  <thead>\n",
       "    <tr style=\"text-align: right;\">\n",
       "      <th></th>\n",
       "      <th>Algorithm</th>\n",
       "      <th>Train_Test</th>\n",
       "      <th>RMSE</th>\n",
       "      <th>R2_Score</th>\n",
       "      <th>MAPE</th>\n",
       "    </tr>\n",
       "  </thead>\n",
       "  <tbody>\n",
       "    <tr>\n",
       "      <th>0</th>\n",
       "      <td>Lasso</td>\n",
       "      <td>train</td>\n",
       "      <td>13.975595</td>\n",
       "      <td>0.492909</td>\n",
       "      <td>0.058043</td>\n",
       "    </tr>\n",
       "    <tr>\n",
       "      <th>1</th>\n",
       "      <td>Lasso</td>\n",
       "      <td>test</td>\n",
       "      <td>18.170952</td>\n",
       "      <td>0.188809</td>\n",
       "      <td>0.060857</td>\n",
       "    </tr>\n",
       "    <tr>\n",
       "      <th>2</th>\n",
       "      <td>RandomForestRegressor</td>\n",
       "      <td>train</td>\n",
       "      <td>6.831870</td>\n",
       "      <td>0.878822</td>\n",
       "      <td>0.028234</td>\n",
       "    </tr>\n",
       "    <tr>\n",
       "      <th>3</th>\n",
       "      <td>RandomForestRegressor</td>\n",
       "      <td>test</td>\n",
       "      <td>18.376903</td>\n",
       "      <td>0.170317</td>\n",
       "      <td>0.067097</td>\n",
       "    </tr>\n",
       "    <tr>\n",
       "      <th>4</th>\n",
       "      <td>GradientBoostingRegressor</td>\n",
       "      <td>train</td>\n",
       "      <td>5.206888</td>\n",
       "      <td>0.929612</td>\n",
       "      <td>0.022571</td>\n",
       "    </tr>\n",
       "    <tr>\n",
       "      <th>5</th>\n",
       "      <td>GradientBoostingRegressor</td>\n",
       "      <td>test</td>\n",
       "      <td>17.452673</td>\n",
       "      <td>0.251672</td>\n",
       "      <td>0.066381</td>\n",
       "    </tr>\n",
       "  </tbody>\n",
       "</table>\n",
       "</div>"
      ],
      "text/plain": [
       "                    Algorithm Train_Test       RMSE  R2_Score      MAPE\n",
       "0                      Lasso       train  13.975595  0.492909  0.058043\n",
       "1                       Lasso       test  18.170952  0.188809  0.060857\n",
       "2      RandomForestRegressor       train   6.831870  0.878822  0.028234\n",
       "3       RandomForestRegressor       test  18.376903  0.170317  0.067097\n",
       "4  GradientBoostingRegressor       train   5.206888  0.929612  0.022571\n",
       "5   GradientBoostingRegressor       test  17.452673  0.251672  0.066381"
      ]
     },
     "execution_count": 21,
     "metadata": {},
     "output_type": "execute_result"
    }
   ],
   "source": [
    "#result evaluation for all 3 combinations on train and test\n",
    "res_log\n"
   ]
  },
  {
   "cell_type": "code",
   "execution_count": 22,
   "metadata": {
    "collapsed": false,
    "deletable": true,
    "editable": true
   },
   "outputs": [
    {
     "data": {
      "text/html": [
       "<div>\n",
       "<table border=\"1\" class=\"dataframe\">\n",
       "  <thead>\n",
       "    <tr style=\"text-align: right;\">\n",
       "      <th></th>\n",
       "      <th>Algorithm</th>\n",
       "      <th>Train_Test</th>\n",
       "      <th>RMSE</th>\n",
       "      <th>R2_Score</th>\n",
       "      <th>MAPE</th>\n",
       "    </tr>\n",
       "  </thead>\n",
       "  <tbody>\n",
       "    <tr>\n",
       "      <th>4</th>\n",
       "      <td>GradientBoostingRegressor</td>\n",
       "      <td>train</td>\n",
       "      <td>5.206888</td>\n",
       "      <td>0.929612</td>\n",
       "      <td>0.022571</td>\n",
       "    </tr>\n",
       "    <tr>\n",
       "      <th>2</th>\n",
       "      <td>RandomForestRegressor</td>\n",
       "      <td>train</td>\n",
       "      <td>6.831870</td>\n",
       "      <td>0.878822</td>\n",
       "      <td>0.028234</td>\n",
       "    </tr>\n",
       "    <tr>\n",
       "      <th>0</th>\n",
       "      <td>Lasso</td>\n",
       "      <td>train</td>\n",
       "      <td>13.975595</td>\n",
       "      <td>0.492909</td>\n",
       "      <td>0.058043</td>\n",
       "    </tr>\n",
       "  </tbody>\n",
       "</table>\n",
       "</div>"
      ],
      "text/plain": [
       "                    Algorithm Train_Test       RMSE  R2_Score      MAPE\n",
       "4  GradientBoostingRegressor       train   5.206888  0.929612  0.022571\n",
       "2      RandomForestRegressor       train   6.831870  0.878822  0.028234\n",
       "0                      Lasso       train  13.975595  0.492909  0.058043"
      ]
     },
     "execution_count": 22,
     "metadata": {},
     "output_type": "execute_result"
    }
   ],
   "source": [
    "#result evaluation for all 3 combinations on train, sorted by RMSE\n",
    "res_log[res_log['Train_Test']=='train'].sort_values(by=['RMSE'])\n"
   ]
  },
  {
   "cell_type": "code",
   "execution_count": 23,
   "metadata": {
    "collapsed": false,
    "deletable": true,
    "editable": true
   },
   "outputs": [
    {
     "data": {
      "text/html": [
       "<div>\n",
       "<table border=\"1\" class=\"dataframe\">\n",
       "  <thead>\n",
       "    <tr style=\"text-align: right;\">\n",
       "      <th></th>\n",
       "      <th>Algorithm</th>\n",
       "      <th>Train_Test</th>\n",
       "      <th>RMSE</th>\n",
       "      <th>R2_Score</th>\n",
       "      <th>MAPE</th>\n",
       "    </tr>\n",
       "  </thead>\n",
       "  <tbody>\n",
       "    <tr>\n",
       "      <th>5</th>\n",
       "      <td>GradientBoostingRegressor</td>\n",
       "      <td>test</td>\n",
       "      <td>17.452673</td>\n",
       "      <td>0.251672</td>\n",
       "      <td>0.066381</td>\n",
       "    </tr>\n",
       "    <tr>\n",
       "      <th>1</th>\n",
       "      <td>Lasso</td>\n",
       "      <td>test</td>\n",
       "      <td>18.170952</td>\n",
       "      <td>0.188809</td>\n",
       "      <td>0.060857</td>\n",
       "    </tr>\n",
       "    <tr>\n",
       "      <th>3</th>\n",
       "      <td>RandomForestRegressor</td>\n",
       "      <td>test</td>\n",
       "      <td>18.376903</td>\n",
       "      <td>0.170317</td>\n",
       "      <td>0.067097</td>\n",
       "    </tr>\n",
       "  </tbody>\n",
       "</table>\n",
       "</div>"
      ],
      "text/plain": [
       "                   Algorithm Train_Test       RMSE  R2_Score      MAPE\n",
       "5  GradientBoostingRegressor       test  17.452673  0.251672  0.066381\n",
       "1                      Lasso       test  18.170952  0.188809  0.060857\n",
       "3      RandomForestRegressor       test  18.376903  0.170317  0.067097"
      ]
     },
     "execution_count": 23,
     "metadata": {},
     "output_type": "execute_result"
    }
   ],
   "source": [
    "#result evaluation for all 3 combinations on test, sorted by RMSE\n",
    "res_log[res_log['Train_Test']==' test'].sort_values(by=['RMSE'])\n"
   ]
  },
  {
   "cell_type": "markdown",
   "metadata": {
    "collapsed": false,
    "deletable": true,
    "editable": true
   },
   "source": [
    "\n",
    "### Draw predicted results on test data"
   ]
  },
  {
   "cell_type": "code",
   "execution_count": 24,
   "metadata": {
    "collapsed": false,
    "deletable": true,
    "editable": true
   },
   "outputs": [
    {
     "name": "stdout",
     "output_type": "stream",
     "text": [
      "            Actual       Lasso  RandomForest  GradientBoostingRegressor\n",
      "Date                                                                   \n",
      "2016-11-01   175.0  181.981313    190.006777                 200.527427\n",
      "2016-11-02   165.0  179.272627    172.103785                 196.233145\n",
      "2016-11-03   210.0  170.757936    178.231753                 172.950420\n",
      "2016-11-04   167.0  169.429396    167.008322                 171.420585\n",
      "2016-11-05   193.0  162.142985    153.606409                 156.516856\n",
      "2016-11-06   144.0  153.174273    152.552997                 152.956530\n",
      "2016-11-07   175.0  164.039854    167.008322                 164.503554\n",
      "2016-11-08   160.0  165.730552    167.008322                 167.224673\n",
      "2016-11-09   160.0  165.378774    172.207759                 173.017589\n",
      "2016-11-10   183.0  176.203202    172.105176                 189.434557\n",
      "2016-11-11   256.0  182.279826    182.692694                 186.543442\n",
      "2016-11-12   171.0  154.991375    151.721290                 157.237081\n",
      "2016-11-13   157.0  151.324086    157.945607                 154.257393\n",
      "2016-11-14   163.0  174.581732    218.103075                 185.616426\n",
      "2016-11-15   172.0  171.357629    174.974766                 176.000265\n",
      "2016-11-16   179.0  168.342031    173.238375                 167.825829\n",
      "2016-11-17   164.0  163.908745    173.238375                 166.686137\n",
      "2016-11-18   163.0  165.565504    173.238375                 168.357952\n",
      "2016-11-19   154.0  152.072384    150.625618                 152.160638\n",
      "2016-11-20   162.0  151.196571    152.552997                 152.029287\n",
      "2016-11-21   163.0  164.791592    173.238375                 166.247639\n",
      "2016-11-22   165.0  165.611447    173.238375                 168.576345\n",
      "2016-11-23   167.0  166.450092    173.238375                 167.085580\n",
      "2016-11-24   171.0  168.421811    173.238375                 168.861711\n",
      "2016-11-25   193.0  172.440984    192.579331                 176.130138\n",
      "2016-11-26   152.0  154.323122    151.721290                 152.308807\n",
      "2016-11-27   155.0  150.993321    161.121944                 154.829081\n",
      "2016-11-28   181.0  167.554747    177.040481                 175.765368\n",
      "2016-11-29   173.0  166.743065    173.238375                 167.796039\n",
      "2016-11-30   230.0  173.678916    206.846963                 197.750423\n"
     ]
    },
    {
     "data": {
      "image/png": "[encoded data removed]",
      "text/plain": [
       "<matplotlib.figure.Figure at 0x509ab6a780>"
      ]
     },
     "metadata": {},
     "output_type": "display_data"
    }
   ],
   "source": [
    "#Draw prediction result of test dataset for all combinations\n",
    "def drawResults(test,actual,dfRes,colors):\n",
    "    \n",
    "    df=pd.DataFrame({'Actual':actual,'Date':test['DATE']})\n",
    "    \n",
    "    \n",
    "    for i in range(len(dfRes.columns)):\n",
    "        df[dfRes.columns[i]]=dfRes[dfRes.columns[i]]       \n",
    "        \n",
    "    df.index=df['Date']\n",
    "    df.drop('Date',axis=1,inplace=True)\n",
    "    \n",
    "\n",
    "\n",
    "    print(df)\n",
    "    # Plot outputs\n",
    "    plt.figure(figsize=(8,8))\n",
    "    ax1=plt.subplot(111)\n",
    "    ax1.plot(df['Actual'], 'blue')\n",
    "    for i in range(len(dfRes.columns)):\n",
    "        ax1.plot(df[dfRes.columns[i]],colors[i])\n",
    "        \n",
    "        \n",
    "    #ax1.set_ylim([0,500])\n",
    "    ax1.legend()\n",
    "    ax1.set_xlabel('Date', fontsize = 16)\n",
    "    ax1.set_ylabel('Batch Minute', fontsize =16)\n",
    "    plt.xticks(rotation='vertical')\n",
    "\n",
    "\n",
    "    plt.show()\n",
    "    plt.clf()\n",
    "    plt.cla()\n",
    "    plt.close()\n",
    "    return\n",
    "\n",
    "drawResults(wt_test,original_y_test,res_test_pred,['purple','g','y'])\n"
   ]
  },
  {
   "cell_type": "markdown",
   "metadata": {
    "deletable": true,
    "editable": true
   },
   "source": [
    "## Step 5: Ensemble predicted results\n",
    "\n",
    "Apply 3 algorithms to predict result, consider linear and unlieaner characteristics of MBJ elapsed time we observed in Data Exploration.\n",
    "\n",
    "1. GradientBoosting\n",
    "2. LASSO\n",
    "3. Random Forest\n",
    "\n",
    "Get the __*mean()*__ of them as result output, use RMSE of training data as __*stderr*__ to calculate upper bound and lower bound\n",
    "\n"
   ]
  },
  {
   "cell_type": "code",
   "execution_count": 25,
   "metadata": {
    "collapsed": false,
    "deletable": true,
    "editable": true
   },
   "outputs": [
    {
     "name": "stdout",
     "output_type": "stream",
     "text": [
      "Ensambled result\n",
      "================================================================================================\n",
      "\n",
      "Root Mean Squared Error: 19.79\n",
      "Variance score: 0.25\n",
      "            Actual  Lower_Bound   Predicted  Upper_Bound\n",
      "Date                                                    \n",
      "2016-11-01   175.0   167.311393  190.838506   214.365618\n",
      "2016-11-02   165.0   159.009407  182.536519   206.063631\n",
      "2016-11-03   210.0   150.452924  173.980036   197.507149\n",
      "2016-11-04   167.0   145.758989  169.286101   192.813213\n",
      "2016-11-05   193.0   133.894971  157.422083   180.949196\n",
      "2016-11-06   144.0   129.367488  152.894600   176.421712\n",
      "2016-11-07   175.0   141.656798  165.183910   188.711023\n",
      "2016-11-08   160.0   143.127403  166.654516   190.181628\n",
      "2016-11-09   160.0   146.674262  170.201374   193.728486\n",
      "2016-11-10   183.0   155.720533  179.247645   202.774758\n",
      "2016-11-11   256.0   160.311541  183.838654   207.365766\n",
      "2016-11-12   171.0   131.122803  154.649915   178.177028\n",
      "2016-11-13   157.0   130.981916  154.509029   178.036141\n",
      "2016-11-14   163.0   169.239966  192.767078   216.294190\n",
      "2016-11-15   172.0   150.583775  174.110887   197.637999\n",
      "2016-11-16   179.0   146.274966  169.802078   193.329191\n",
      "2016-11-17   164.0   144.417307  167.944419   191.471531\n",
      "2016-11-18   163.0   145.526831  169.053943   192.581056\n",
      "2016-11-19   154.0   128.092435  151.619547   175.146659\n",
      "2016-11-20   162.0   128.399173  151.926285   175.453397\n",
      "2016-11-21   163.0   144.565423  168.092535   191.619647\n",
      "2016-11-22   165.0   145.614943  169.142056   192.669168\n",
      "2016-11-23   167.0   145.397570  168.924682   192.451795\n",
      "2016-11-24   171.0   146.646853  170.173965   193.701078\n",
      "2016-11-25   193.0   156.856372  180.383484   203.910597\n",
      "2016-11-26   152.0   129.257294  152.784406   176.311518\n",
      "2016-11-27   155.0   132.121003  155.648115   179.175228\n",
      "2016-11-28   181.0   149.926420  173.453532   196.980644\n",
      "2016-11-29   173.0   145.732047  169.259160   192.786272\n",
      "2016-11-30   230.0   169.231655  192.758767   216.285880\n"
     ]
    },
    {
     "data": {
      "image/png": "[encoded data removed]",
      "text/plain": [
       "<matplotlib.figure.Figure at 0x509a817dd8>"
      ]
     },
     "metadata": {},
     "output_type": "display_data"
    },
    {
     "name": "stdout",
     "output_type": "stream",
     "text": [
      "Ensambled result  MAPE=0.065\n"
     ]
    }
   ],
   "source": [
    "#Draw ensembled predicted result with upper bound and lower bound\n",
    "def evalResultRange(algname,test,actual,predicted,std,times=3):\n",
    "    print(algname)\n",
    "    print('================================================================================================\\n')\n",
    "    print(\"Root Mean Squared Error: %.2f\" % np.sqrt(mean_squared_error(actual, predicted)))\n",
    "     # Explained variance score: 1 is perfect prediction\n",
    "    print('Variance score: %.2f' % r2_score(actual, predicted))\n",
    "    df=pd.DataFrame({'Actual':actual,'Predicted':predicted,'Date':test['DATE'],\n",
    "                     'Upper_Bound':predicted+times*std,'Lower_Bound':predicted-times*std})\n",
    "    df.index=df['Date']\n",
    "    df.drop('Date',axis=1,inplace=True)\n",
    "    df['Lower_Bound'][df['Lower_Bound']<0]=0\n",
    "    print(df)\n",
    "    # Plot outputs\n",
    "    plt.figure(figsize=(8,18))\n",
    "    ax1=plt.subplot(211)\n",
    "    ax1.plot(df['Actual'], 'b')\n",
    "    ax1.plot(df['Predicted'],'r')\n",
    "    ax1.plot(df['Upper_Bound'],'r--')\n",
    "    ax1.plot(df['Lower_Bound'],'r--')\n",
    "    ax1.set_ylim([100,280])\n",
    "    ax1.legend()\n",
    "    ax1.set_xlabel('Date', fontsize = 16)\n",
    "    ax1.set_ylabel('Batch Minute', fontsize =16)\n",
    "    plt.xticks(rotation='vertical')\n",
    "    \n",
    "    ax2=plt.subplot(212)\n",
    "    ax2.set_xlim([0,280])\n",
    "    ax2.set_ylim([0,280])\n",
    "    ax2.scatter(actual, predicted,  color='black')\n",
    "    l=max(actual)\n",
    "    x= np.arange(0.0, l, 1)\n",
    "    ax2.plot(x,x,'r')\n",
    "    ax2.set_xlabel('Actual', fontsize = 16)\n",
    "    ax2.set_ylabel('Predicted', fontsize = 16)\n",
    "\n",
    "    plt.show()\n",
    "    plt.clf()\n",
    "    plt.cla()\n",
    "    plt.close()\n",
    "    #plt.close()\n",
    "    #print(*zip(actual,predicted))\n",
    "    print(algname,' MAPE=%.3f'% calMAPE(actual,predicted))\n",
    "    return\n",
    "    \n",
    "\n",
    "from sklearn.metrics import mean_squared_error\n",
    "from math import sqrt\n",
    "res_final_train=pd.DataFrame()\n",
    "res_final_train['mean']=res_train_pred.mean(axis=1)\n",
    "rmse=sqrt(mean_squared_error(y_train, res_final_train['mean']))\n",
    "res_final_test=pd.DataFrame()\n",
    "res_final_test['mean']=res_test_pred.mean(axis=1)\n",
    "res_final_test['std']=rmse\n",
    "evalResultRange('Ensambled result',wt_test,original_y_test,res_final_test['mean'],res_final_test['std'],3)\n"
   ]
  },
  {
   "cell_type": "code",
   "execution_count": null,
   "metadata": {
    "collapsed": true
   },
   "outputs": [],
   "source": []
  }
 ],
 "metadata": {
  "component": "zed7hdh1",
  "kernelspec": {
   "display_name": "imlpython3",
   "language": "python",
   "name": "imlpython3"
  },
  "language_info": {
   "codemirror_mode": {
    "name": "ipython",
    "version": 3
   },
   "file_extension": ".py",
   "mimetype": "text/x-python",
   "name": "python",
   "nbconvert_exporter": "python",
   "pygments_lexer": "ipython3",
   "version": "3.6.1"
  }
 },
 "nbformat": 4,
 "nbformat_minor": 0
}
